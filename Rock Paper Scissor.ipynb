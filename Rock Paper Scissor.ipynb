{
 "cells": [
  {
   "cell_type": "code",
   "execution_count": 1,
   "id": "f80d2bb9",
   "metadata": {},
   "outputs": [
    {
     "name": "stdout",
     "output_type": "stream",
     "text": [
      "Welcome To Stone Paper and Scissor game\n",
      "Here the user should enter based on following 0 for stone 1 for paper and 2 for scissor\n",
      "\n",
      "Lets Go and play the game\n",
      "Enter stone(0) paper(1) or scissor(2)2\n",
      "Computer's score: 1\n",
      "Player's score: 0\n",
      "The winner is Computer\n"
     ]
    }
   ],
   "source": [
    "comp=[2,1,0]#paper\n",
    "print('''Welcome To Stone Paper and Scissor game\n",
    "Here the user should enter based on following 0 for stone 1 for paper and 2 for scissor\n",
    "''')\n",
    "print(\"Lets Go and play the game\")\n",
    "comp1=0\n",
    "play1=0\n",
    "user=int(input(\"Enter stone(0) paper(1) or scissor(2)\"))\n",
    "if comp[user]==0 and user==1:\n",
    "    play1+=1\n",
    "elif comp[user]==0 and user==2:\n",
    "    comp1+=1\n",
    "elif comp[user]==1 and user==0:\n",
    "    comp1+=1\n",
    "elif comp[user]==1 and user==2:\n",
    "    play1+=1\n",
    "elif comp[user]==2 and user==0:\n",
    "    play1+=1\n",
    "elif comp[user]==2 and user==1:\n",
    "    comp1+=1\n",
    "print(f\"Computer's score: {comp1}\")\n",
    "print(f\"Player's score: {play1}\")\n",
    "if comp1>play1:\n",
    "    print(\"The winner is Computer\")\n",
    "elif comp1==play1:\n",
    "    print(\"Oh It's a Tie!\")\n",
    "else:\n",
    "    print(\"The winner is user!!\")"
   ]
  },
  {
   "cell_type": "code",
   "execution_count": null,
   "id": "668c947b",
   "metadata": {},
   "outputs": [],
   "source": []
  }
 ],
 "metadata": {
  "kernelspec": {
   "display_name": "Python 3 (ipykernel)",
   "language": "python",
   "name": "python3"
  },
  "language_info": {
   "codemirror_mode": {
    "name": "ipython",
    "version": 3
   },
   "file_extension": ".py",
   "mimetype": "text/x-python",
   "name": "python",
   "nbconvert_exporter": "python",
   "pygments_lexer": "ipython3",
   "version": "3.9.7"
  }
 },
 "nbformat": 4,
 "nbformat_minor": 5
}
